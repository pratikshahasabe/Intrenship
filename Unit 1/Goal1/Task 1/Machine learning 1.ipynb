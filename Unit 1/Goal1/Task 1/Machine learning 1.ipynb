{
 "cells": [
  {
   "cell_type": "markdown",
   "metadata": {},
   "source": [
    "# What is Machine Learning\n",
    "\n",
    "In the real world, we are surrounded by humans who can learn everything from their experiences with their learning capability,\n",
    "and we have computers or machines which work on our instructions. But can a machine also learn from experiences or past data \n",
    "like a human does? So here comes the role of Machine Learning.\n",
    "\n",
    "Machine Learning is said as a subset of artificial intelligence that is mainly concerned with the development of algorithms which allow a computer to learn from the data and past experiences on their own. The term machine learning was first introduced by Arthur Samuel in 1959.\n",
    "\n",
    "Machine learning enables a machine to automatically learn from data, improve performance from experiences, and predict things without being explicitly programmed.\n"
   ]
  },
  {
   "cell_type": "markdown",
   "metadata": {},
   "source": [
    "# Classification of Machine Learning\n",
    "\n",
    "At a broad level, machine learning can be classified into three types:\n",
    "1.Supervised learning\n",
    "2.Unsupervised learning\n",
    "3.Reinforcement learning"
   ]
  },
  {
   "cell_type": "markdown",
   "metadata": {},
   "source": [
    "### 1.Supervised learning"
   ]
  },
  {
   "cell_type": "markdown",
   "metadata": {},
   "source": [
    "Supervised learning is a type of machine learning method in which we provide sample labeled data to the machine learning system in order to train it, and on that basis, it predicts the output.\n",
    "\n",
    "The system creates a model using labeled data to understand the datasets and learn about each data, once the training and processing are done then we test the model by providing a sample data to check whether it is predicting the exact output or not.\n",
    "\n",
    "The goal of supervised learning is to map input data with the output data. The supervised learning is based on supervision, and it is the same as when a student learns things in the supervision of the teacher. The example of supervised learning is spam filtering.\n",
    "\n",
    "Supervised learning can be grouped further in two categories of algorithms:\n",
    "\n",
    "1.Classification\n",
    "2.Regression"
   ]
  },
  {
   "cell_type": "markdown",
   "metadata": {},
   "source": [
    "### LINEAR PREDICTIONS"
   ]
  },
  {
   "cell_type": "markdown",
   "metadata": {},
   "source": [
    "#### Linear Regression \n",
    "\n",
    "Linear regression is one of the easiest and most popular Machine Learning algorithms. It is a statistical method that is used for predictive analysis. Linear regression makes predictions for continuous/real or numeric variables such as sales, salary, age, product price, etc.\n",
    "\n",
    "Linear regression algorithm shows a linear relationship between a dependent (y) and one or more independent (y) variables, hence called as linear regression. Since linear regression shows the linear relationship, which means it finds how the value of the dependent variable is changing according to the value of the independent variable.\n",
    "\n",
    "Mathematically, we can represent a linear regression as:\n",
    "\n",
    "   y= a0+a1x+ ε\n",
    "Here,\n",
    "\n",
    "Y= Dependent Variable (Target Variable)\n",
    "X= Independent Variable (predictor Variable)\n",
    "a0= intercept of the line (Gives an additional degree of freedom)\n",
    "a1 = Linear regression coefficient (scale factor to each input value).\n",
    "ε = random error\n",
    "The values for x and y variables are training datasets for Linear Regression model representation.\n",
    "\n",
    "##Types of Linear Regression\n",
    "Linear regression can be further divided into two types of the algorithm:\n",
    "\n",
    "1.Simple Linear Regression:\n",
    "                            If a single independent variable is used to predict the value of a numerical dependent variable, then such a Linear Regression algorithm is called Simple Linear Regression.\n",
    "                            \n",
    "2.Multiple Linear regression:\n",
    "                            If more than one independent variable is used to predict the value of a numerical dependent variable, then such a Linear Regression algorithm is called Multiple Linear Regression.\n",
    "\n",
    "##Linear Regression Line:\n",
    "                         A linear line showing the relationship between the dependent and independent variables is called a regression line. A regression line can show two types of relationship:\n",
    "\n",
    "1.Positive Linear Relationship:\n",
    "    The line equation will be y=a0+a1x\n",
    "2.Negative Linear Relationship:\n",
    "    The line equation will be y=-a0+a1x\n",
    "    \n",
    "For Linear Regression, we use the Mean Squared Error (MSE) cost function, which is the average of squared error occurred between the predicted values and actual values."
   ]
  },
  {
   "cell_type": "markdown",
   "metadata": {},
   "source": [
    "#### Logistic Regression"
   ]
  },
  {
   "cell_type": "markdown",
   "metadata": {},
   "source": [
    "Logistic regression predicts the output of a categorical dependent variable. Therefore the outcome must be a categorical or \n",
    "discrete value. It can be either Yes or No, 0 or 1, true or False, etc. but instead of giving the exact value as 0 and 1, \n",
    "it gives the probabilistic values which lie between 0 and 1.\n",
    "\n",
    "Logistic Regression is much similar to the Linear Regression except that how they are used. Linear Regression is used for \n",
    "solving Regression problems, whereas Logistic regression is used for solving the classification problems.\n",
    "\n",
    "Logistic regression uses the concept of predictive modeling as regression; therefore, it is called logistic regression, \n",
    "but is used to classify samples; Therefore, it falls under the classification algorithm.\n",
    "\n",
    "\n",
    "##Logistic Function (Sigmoid Function):\n",
    "    \n",
    "1.The sigmoid function is a mathematical function used to map the predicted values to probabilities.\n",
    "\n",
    "2.It maps any real value into another value within a range of 0 and 1.\n",
    "\n",
    "3.The value of the logistic regression must be between 0 and 1, which cannot go beyond this limit, so it forms a curve \n",
    "  like the \"S\" form. The S-form curve is called the Sigmoid function or the logistic function.\n",
    "  \n",
    "4.In logistic regression, we use the concept of the threshold value, which defines the probability of either 0 or 1. \n",
    "   Such as values above the threshold value tends to 1, and a value below the threshold values tends to 0.\n",
    "        \n",
    "##Assumptions for Logistic Regression:\n",
    "    \n",
    "   The dependent variable must be categorical in nature.\n",
    "   The independent variable should not have multi-collinearity.\n",
    "\n",
    "##Logistic Regression Equation:\n",
    "   1.We know the equation of the straight line can be written as:\n",
    "        y=b0+b1x1+b2x2+b3x3+.....+bnxn\n",
    "    \n",
    "   2.In Logistic Regression y can be between 0 and 1 only, so for this let's divide the above equation by (1-y):\n",
    "        y/1-y; 0 for y=0, and infinity for y=1\n",
    "        \n",
    "   3.But we need range between -[infinity] to +[infinity], then take logarithm of the equation it will become:\n",
    "        log[y/1-y]=b0+b1x1+b2x2+b3x3+...+bnxn\n",
    "        \n",
    "Type of Logistic Regression:\n",
    "\n",
    "1.Binomial: \n",
    "        In binomial Logistic regression, there can be only two possible types of the dependent variables, such as 0 or 1, \n",
    "        Pass or Fail, etc.\n",
    "        \n",
    "2.Multinomial: \n",
    "        In multinomial Logistic regression, there can be 3 or more possible unordered types of the dependent variable, \n",
    "        such as \"cat\", \"dogs\", or \"sheep\"\n",
    "        \n",
    "3.Ordinal: \n",
    "        In ordinal Logistic regression, there can be 3 or more possible ordered types of dependent variables, such as \n",
    "        \"low\", \"Medium\", or \"High\".\n"
   ]
  },
  {
   "cell_type": "markdown",
   "metadata": {},
   "source": [
    "### NON-LINEAR PREDICTIONS"
   ]
  },
  {
   "cell_type": "markdown",
   "metadata": {},
   "source": [
    "### Random Forest \n",
    "\n",
    "Random Forest is a popular machine learning algorithm that belongs to the supervised learning technique. It can be used for \n",
    "both Classification and Regression problems in ML. It is based on the concept of ensemble learning, which is a process of \n",
    "combining multiple classifiers to solve a complex problem and to improve the performance of the model.\n",
    "\n",
    "As the name suggests, \"Random Forest is a classifier that contains a number of decision trees on various subsets of the given\n",
    "dataset and takes the average to improve the predictive accuracy of that dataset.\" Instead of relying on one decision tree, \n",
    "the random forest takes the prediction from each tree and based on the majority votes of predictions, and it predicts the \n",
    "final output.\n",
    "\n",
    "\n",
    "It takes less training time as compared to other algorithms.\n",
    "It predicts output with high accuracy, even for the large dataset it runs efficiently.\n",
    "It can also maintain accuracy when a large proportion of data is missing.\n",
    "\n",
    "Random Forest algorithm work?\n",
    "\n",
    "Step-1: Select random K data points from the training set.\n",
    "\n",
    "Step-2: Build the decision trees associated with the selected data points (Subsets).\n",
    "\n",
    "Step-3: Choose the number N for decision trees that you want to build.\n",
    "\n",
    "Step-4: Repeat Step 1 & 2.\n",
    "\n",
    "Step-5: For new data points, find the predictions of each decision tree, and assign the new data points to the category that wins the majority votes."
   ]
  },
  {
   "cell_type": "markdown",
   "metadata": {},
   "source": [
    "### Neural Networks\n",
    "\n",
    "A neural network is a system that learns how to make predictions by following these steps:\n",
    "\n",
    "Taking the input data\n",
    "Making a prediction\n",
    "Comparing the prediction to the desired output\n",
    "Adjusting its internal state to predict correctly the next time\n",
    "Vectors, layers, and linear regression are some of the building blocks of neural networks. The data is stored as vectors, and with Python you store these vectors in arrays. Each layer transforms the data that comes from the previous layer. You can think of each layer as a feature engineering step, because each layer extracts some representation of the data that came previously.\n",
    "\n",
    "One cool thing about neural network layers is that the same computations can extract information from any kind of data. This means that it doesn’t matter if you’re using image data or text data. The process to extract meaningful information and train the deep learning model is the same for both scenarios."
   ]
  },
  {
   "cell_type": "markdown",
   "metadata": {},
   "source": [
    "### 2.unsupervised learning"
   ]
  },
  {
   "cell_type": "markdown",
   "metadata": {},
   "source": [
    "As the name suggests, unsupervised learning is a machine learning technique in which models are not supervised using training dataset. Instead, models itself find the hidden patterns and insights from the given data. It can be compared to learning which takes place in the human brain while learning new things.\n",
    "\n",
    "Unsupervised learning is a type of machine learning in which models are trained using unlabeled dataset and are allowed to act on that data without any supervision.\n",
    "\n",
    "Unsupervised learning cannot be directly applied to a regression or classification problem because unlike supervised learning, we have the input data but no corresponding output data. The goal of unsupervised learning is to find the underlying structure of dataset, group that data according to similarities, and represent that dataset in a compressed format.\n",
    "\n",
    "\n",
    "Types of Unsupervised Learning Algorithm:\n",
    "\n",
    "1.Clustering: \n",
    "Clustering is a method of grouping the objects into clusters such that objects with most similarities remains into a group and has less or no similarities with the objects of another group. Cluster analysis finds the commonalities between the data objects and categorizes them as per the presence and absence of those commonalities.\n",
    "\n",
    "2.Association: \n",
    "An association rule is an unsupervised learning method which is used for finding the relationships between variables in the large database. It determines the set of items that occurs together in the dataset. Association rule makes marketing strategy more effective. Such as people who buy X item (suppose a bread) are also tend to purchase Y (Butter/Jam) item. A typical example of Association rule is Market Basket Analysis."
   ]
  },
  {
   "cell_type": "markdown",
   "metadata": {},
   "source": [
    "### K-Means Clustering with Scikit-Learn"
   ]
  },
  {
   "cell_type": "markdown",
   "metadata": {},
   "source": [
    "K-means clustering is one of the most widely used unsupervised machine learning algorithms that forms clusters of data based on\n",
    "the similarity between data instances. For this particular algorithm to work, the number of clusters has to be defined \n",
    "beforehand. The K in the K-means refers to the number of clusters.\n",
    "\n",
    "The K-means algorithm starts by randomly choosing a centroid value for each cluster. After that the algorithm iteratively \n",
    "performs three steps: \n",
    "(i) Find the Euclidean distance between each data instance and centroids of all the clusters; \n",
    "(ii) Assign the data instances to the cluster of the centroid with nearest distance; \n",
    "(iii) Calculate new centroid values based on the mean values of the coordinates of all the data instances from the \n",
    "   corresponding cluster."
   ]
  },
  {
   "cell_type": "code",
   "execution_count": 4,
   "metadata": {},
   "outputs": [],
   "source": [
    "import matplotlib.pyplot as plt\n",
    "%matplotlib inline\n",
    "import numpy as np\n",
    "from sklearn.cluster import KMeans"
   ]
  },
  {
   "cell_type": "code",
   "execution_count": 5,
   "metadata": {},
   "outputs": [],
   "source": [
    "X = np.array([[5,3],\n",
    "     [10,15],\n",
    "     [15,12],\n",
    "     [24,10],\n",
    "     [30,45],\n",
    "     [85,70],\n",
    "     [71,80],\n",
    "     [60,78],\n",
    "     [55,52],\n",
    "     [80,91],])"
   ]
  },
  {
   "cell_type": "code",
   "execution_count": 6,
   "metadata": {},
   "outputs": [
    {
     "data": {
      "text/plain": [
       "<matplotlib.collections.PathCollection at 0x201c19351c0>"
      ]
     },
     "execution_count": 6,
     "metadata": {},
     "output_type": "execute_result"
    },
    {
     "data": {
      "image/png": "[encoded data removed]",
      "text/plain": [
       "<Figure size 432x288 with 1 Axes>"
      ]
     },
     "metadata": {
      "needs_background": "light"
     },
     "output_type": "display_data"
    }
   ],
   "source": [
    "plt.scatter(X[:,0],X[:,1], label='True Position')"
   ]
  },
  {
   "cell_type": "code",
   "execution_count": 7,
   "metadata": {},
   "outputs": [
    {
     "data": {
      "text/plain": [
       "KMeans(n_clusters=2)"
      ]
     },
     "execution_count": 7,
     "metadata": {},
     "output_type": "execute_result"
    }
   ],
   "source": [
    "kmeans = KMeans(n_clusters=2)\n",
    "kmeans.fit(X)"
   ]
  },
  {
   "cell_type": "code",
   "execution_count": 8,
   "metadata": {},
   "outputs": [
    {
     "name": "stdout",
     "output_type": "stream",
     "text": [
      "[[70.2 74.2]\n",
      " [16.8 17. ]]\n"
     ]
    }
   ],
   "source": [
    "print(kmeans.cluster_centers_)"
   ]
  },
  {
   "cell_type": "code",
   "execution_count": 9,
   "metadata": {},
   "outputs": [
    {
     "name": "stdout",
     "output_type": "stream",
     "text": [
      "[1 1 1 1 1 0 0 0 0 0]\n"
     ]
    }
   ],
   "source": [
    "print(kmeans.labels_)"
   ]
  },
  {
   "cell_type": "code",
   "execution_count": 10,
   "metadata": {},
   "outputs": [
    {
     "data": {
      "text/plain": [
       "<matplotlib.collections.PathCollection at 0x201c306e490>"
      ]
     },
     "execution_count": 10,
     "metadata": {},
     "output_type": "execute_result"
    },
    {
     "data": {
      "image/png": "[encoded data removed]",
      "text/plain": [
       "<Figure size 432x288 with 1 Axes>"
      ]
     },
     "metadata": {
      "needs_background": "light"
     },
     "output_type": "display_data"
    }
   ],
   "source": [
    "plt.scatter(X[:,0],X[:,1], c=kmeans.labels_, cmap='rainbow')"
   ]
  },
  {
   "cell_type": "code",
   "execution_count": 11,
   "metadata": {},
   "outputs": [
    {
     "data": {
      "text/plain": [
       "<matplotlib.collections.PathCollection at 0x201c30d4340>"
      ]
     },
     "execution_count": 11,
     "metadata": {},
     "output_type": "execute_result"
    },
    {
     "data": {
      "image/png": "[encoded data removed]",
      "text/plain": [
       "<Figure size 432x288 with 1 Axes>"
      ]
     },
     "metadata": {
      "needs_background": "light"
     },
     "output_type": "display_data"
    }
   ],
   "source": [
    "plt.scatter(X[:,0], X[:,1], c=kmeans.labels_, cmap='rainbow')\n",
    "plt.scatter(kmeans.cluster_centers_[:,0] ,kmeans.cluster_centers_[:,1], color='black')"
   ]
  },
  {
   "cell_type": "markdown",
   "metadata": {},
   "source": [
    "### Hierarchical Clustering Python\n",
    "\n",
    "\n",
    "Hierarchical clustering deals with data in the form of a tree or a well-defined hierarchy. The process involves dealing with two clusters at a time. The algorithm relies on a similarity or distance matrix for computational decisions. Meaning, which two clusters to merge or how to divide a cluster into two. With these two options in mind, we have two types of hierarchical clustering.\n",
    "\n",
    "One of the algorithm’s critical aspects is the similarity matrix (also known as proximity matrix), as the whole algorithm proceeds based on it. There are many proximity methods which are discussed further along in the article.\n",
    "\n",
    "Hierarchical clustering has two types:\n",
    "Agglomerative clustering\n",
    "Divisive clustering"
   ]
  },
  {
   "cell_type": "code",
   "execution_count": 15,
   "metadata": {},
   "outputs": [],
   "source": [
    "import numpy as np\n",
    "\n",
    "X = np.array([[5,3],\n",
    "    [10,15],\n",
    "    [15,12],\n",
    "    [24,10],\n",
    "    [30,30],\n",
    "    [85,70],\n",
    "    [71,80],\n",
    "    [60,78],\n",
    "    [70,55],\n",
    "    [80,91],])"
   ]
  },
  {
   "cell_type": "code",
   "execution_count": 16,
   "metadata": {},
   "outputs": [
    {
     "data": {
      "image/png": "[encoded data removed]",
      "text/plain": [
       "<Figure size 720x504 with 1 Axes>"
      ]
     },
     "metadata": {
      "needs_background": "light"
     },
     "output_type": "display_data"
    }
   ],
   "source": [
    "import matplotlib.pyplot as plt\n",
    "\n",
    "labels = range(1, 11)\n",
    "plt.figure(figsize=(10, 7))\n",
    "plt.subplots_adjust(bottom=0.1)\n",
    "plt.scatter(X[:,0],X[:,1], label='True Position')\n",
    "\n",
    "for label, x, y in zip(labels, X[:, 0], X[:, 1]):\n",
    "    plt.annotate(\n",
    "        label,\n",
    "        xy=(x, y), xytext=(-3, 3),\n",
    "        textcoords='offset points', ha='right', va='bottom')\n",
    "plt.show()"
   ]
  },
  {
   "cell_type": "code",
   "execution_count": 17,
   "metadata": {},
   "outputs": [
    {
     "data": {
      "image/png": "[encoded data removed]",
      "text/plain": [
       "<Figure size 720x504 with 1 Axes>"
      ]
     },
     "metadata": {
      "needs_background": "light"
     },
     "output_type": "display_data"
    }
   ],
   "source": [
    "from scipy.cluster.hierarchy import dendrogram, linkage\n",
    "from matplotlib import pyplot as plt\n",
    "\n",
    "linked = linkage(X, 'single')\n",
    "\n",
    "labelList = range(1, 11)\n",
    "\n",
    "plt.figure(figsize=(10, 7))\n",
    "dendrogram(linked,\n",
    "            orientation='top',\n",
    "            labels=labelList,\n",
    "            distance_sort='descending',\n",
    "            show_leaf_counts=True)\n",
    "plt.show()"
   ]
  },
  {
   "cell_type": "code",
   "execution_count": null,
   "metadata": {},
   "outputs": [],
   "source": []
  }
 ],
 "metadata": {
  "kernelspec": {
   "display_name": "Python 3",
   "language": "python",
   "name": "python3"
  },
  "language_info": {
   "codemirror_mode": {
    "name": "ipython",
    "version": 3
   },
   "file_extension": ".py",
   "mimetype": "text/x-python",
   "name": "python",
   "nbconvert_exporter": "python",
   "pygments_lexer": "ipython3",
   "version": "3.8.5"
  }
 },
 "nbformat": 4,
 "nbformat_minor": 4
}
